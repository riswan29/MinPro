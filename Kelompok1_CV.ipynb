{
  "cells": [
    {
      "cell_type": "markdown",
      "metadata": {
        "id": "view-in-github",
        "colab_type": "text"
      },
      "source": [
        "<a href=\"https://colab.research.google.com/github/riswan29/MinPro/blob/main/Kelompok1_CV.ipynb\" target=\"_parent\"><img src=\"https://colab.research.google.com/assets/colab-badge.svg\" alt=\"Open In Colab\"/></a>"
      ]
    },
    {
      "cell_type": "code",
      "execution_count": null,
      "metadata": {
        "id": "SPWc9uOnJcxy"
      },
      "outputs": [],
      "source": [
        "!wget --no-check-certificate \\\n",
        "  https://github.com/dicodingacademy/assets/releases/download/release/rockpaperscissors.zip"
      ]
    },
    {
      "cell_type": "code",
      "execution_count": null,
      "metadata": {
        "id": "S6mzge5iwBw4"
      },
      "outputs": [],
      "source": []
    },
    {
      "cell_type": "code",
      "execution_count": null,
      "metadata": {
        "id": "SHO3ztqeJvKO"
      },
      "outputs": [],
      "source": [
        "import zipfile,os\n",
        "local_zip = 'rockpaperscissors.zip'\n",
        "zip_ref = zipfile.ZipFile(local_zip, 'r')\n",
        "zip_ref.extractall()\n",
        "zip_ref.close()\n",
        "\n",
        "\n"
      ]
    },
    {
      "cell_type": "code",
      "execution_count": null,
      "metadata": {
        "id": "BidEWXCsJ8XT"
      },
      "outputs": [],
      "source": [
        "!pip install split-folders\n",
        "\n",
        "import splitfolders \n",
        "splitfolders.ratio('rockpaperscissors/rps-cv-images', output=\"rockpaperscissors/split\",\n",
        "                   seed=1337, ratio=(.6, .4))"
      ]
    },
    {
      "cell_type": "code",
      "execution_count": null,
      "metadata": {
        "id": "_Cbe_uy3MBWU"
      },
      "outputs": [],
      "source": [
        "base_dir = 'rockpaperscissors/split'\n",
        "train_dir = os.path.join(base_dir, 'train')\n",
        "validation_dir = os.path.join(base_dir, 'val')"
      ]
    },
    {
      "cell_type": "code",
      "execution_count": null,
      "metadata": {
        "id": "lVbTjqKlNm_P"
      },
      "outputs": [],
      "source": [
        "os.listdir('rockpaperscissors/split/train')"
      ]
    },
    {
      "cell_type": "code",
      "execution_count": null,
      "metadata": {
        "id": "sRWTmzu7NqxC"
      },
      "outputs": [],
      "source": [
        "os.listdir('rockpaperscissors/split/val')"
      ]
    },
    {
      "cell_type": "code",
      "execution_count": null,
      "metadata": {
        "id": "4scu4LIVN3u4"
      },
      "outputs": [],
      "source": [
        "# membuat folder train\n",
        "train_rock_dir = os.path.join(train_dir, 'rock')\n",
        "train_paper_dir = os.path.join(train_dir, 'paper')\n",
        "train_scissors = os.path.join(train_dir, 'scissors')\n",
        "\n",
        "# membuat folder validasi\n",
        "validation_rock_dir = os.path.join(validation_dir, 'rock')\n",
        "validation_paper_dir = os.path.join(validation_dir, 'paper')\n",
        "validatio_scissors_dir = os.path.join(validation_dir, 'scissors')"
      ]
    },
    {
      "cell_type": "code",
      "execution_count": null,
      "metadata": {
        "id": "aB37C_MzPP-2"
      },
      "outputs": [],
      "source": [
        "import tensorflow as tf\n",
        "from tensorflow.keras.optimizers import RMSprop\n",
        "from tensorflow.keras.preprocessing.image import ImageDataGenerator\n",
        "train_datagen = ImageDataGenerator(\n",
        "                    rescale=1./255, \n",
        "                    rotation_range=20, \n",
        "                    horizontal_flip=True, \n",
        "                    shear_range = 0.2, \n",
        "                    fill_mode = 'nearest',\n",
        "                    )\n",
        "\n",
        "test_datagen = ImageDataGenerator(\n",
        "                    rescale=1./255)"
      ]
    },
    {
      "cell_type": "code",
      "execution_count": null,
      "metadata": {
        "id": "-rblxsK2Pi9f"
      },
      "outputs": [],
      "source": [
        "train_generator = train_datagen.flow_from_directory(\n",
        "        train_dir, \n",
        "        target_size=(150, 150), \n",
        "        batch_size=4,\n",
        "        class_mode='categorical')\n",
        "\n",
        "validation_generator = test_datagen.flow_from_directory(\n",
        "        validation_dir,\n",
        "        target_size=(150, 150),\n",
        "        batch_size=4, \n",
        "        class_mode='categorical')"
      ]
    },
    {
      "cell_type": "code",
      "execution_count": null,
      "metadata": {
        "id": "GoEZ770HPmrp"
      },
      "outputs": [],
      "source": [
        "model = tf.keras.models.Sequential([\n",
        "    tf.keras.layers.Conv2D(32, (3,3), activation='relu', input_shape=(150, 150, 3)),\n",
        "    tf.keras.layers.MaxPooling2D(2, 2),\n",
        "    tf.keras.layers.Conv2D(64, (3,3), activation='relu'),\n",
        "    tf.keras.layers.MaxPooling2D(2,2),\n",
        "    tf.keras.layers.Conv2D(128, (3,3), activation='relu'),\n",
        "    tf.keras.layers.MaxPooling2D(2,2),\n",
        "    tf.keras.layers.Conv2D(512, (3,3), activation='relu'),\n",
        "    tf.keras.layers.MaxPooling2D(2,2),\n",
        "    tf.keras.layers.Flatten(),\n",
        "    tf.keras.layers.Dense(128, activation='relu'),\n",
        "    tf.keras.layers.Dense(3, activation='softmax')\n",
        "])"
      ]
    },
    {
      "cell_type": "code",
      "execution_count": null,
      "metadata": {
        "id": "wJWrU0uLP5hD"
      },
      "outputs": [],
      "source": [
        "model.summary()"
      ]
    },
    {
      "cell_type": "code",
      "execution_count": null,
      "metadata": {
        "id": "xdQbn7e4P9M7"
      },
      "outputs": [],
      "source": [
        "model.compile(optimizer='adam',\n",
        "              loss='categorical_crossentropy',\n",
        "              metrics=['accuracy'])"
      ]
    },
    {
      "cell_type": "code",
      "execution_count": null,
      "metadata": {
        "id": "RZ1HH6i3QElR"
      },
      "outputs": [],
      "source": [
        "history = model.fit(\n",
        "      train_generator,\n",
        "      steps_per_epoch=25, \n",
        "      epochs=50, \n",
        "      validation_data=validation_generator,\n",
        "      validation_steps=5, \n",
        "      verbose=2)"
      ]
    },
    {
      "cell_type": "code",
      "execution_count": null,
      "metadata": {
        "id": "RKMUZOP_Qfms"
      },
      "outputs": [],
      "source": [
        "import numpy as np\n",
        "from google.colab import files\n",
        "from tensorflow.keras.preprocessing import image\n",
        "import matplotlib.pyplot as plt\n",
        "import matplotlib.image as mpimg\n",
        "import matplotlib.pyplot as plt\n",
        "import matplotlib.image as mpimg\n",
        "%matplotlib inline\n",
        "\n",
        "uploaded = files.upload()\n",
        "\n",
        "for fn in uploaded.keys():\n",
        " \n",
        "  # prediksi gambar\n",
        "  path = fn\n",
        "  img = image.load_img(path, target_size=(150,150))\n",
        "\n",
        "  imgplot = plt.imshow(img)\n",
        "  x = image.img_to_array(img)\n",
        "  x = np.expand_dims(x, axis=0)\n",
        "  images = np.vstack([x])\n",
        "\n",
        "  classes = model.predict(images, batch_size=10)  \n",
        "  print(fn)\n",
        "\n",
        "  output_class = np.argmax(classes)\n",
        "\n",
        "if output_class==0:\n",
        "    print('kertas')\n",
        "elif output_class==1:\n",
        "    print('batu')\n",
        "else:\n",
        "    print('gunting')"
      ]
    },
    {
      "cell_type": "code",
      "source": [
        "from random import randint\n",
        "gameList = [0, 1, 2]\n",
        "\n",
        "komputer = gameList[randint(0, 2)]\n",
        "\n",
        "if komputer==0:\n",
        "    print('kertas')\n",
        "elif komputer==1:\n",
        "    print('batu')\n",
        "else:\n",
        "    print('gunting')"
      ],
      "metadata": {
        "id": "2Et3Rjy-1BvD"
      },
      "execution_count": null,
      "outputs": []
    },
    {
      "cell_type": "code",
      "source": [
        "print(output_class)\n",
        "print(komputer)"
      ],
      "metadata": {
        "id": "F7GR_i19ErVV"
      },
      "execution_count": null,
      "outputs": []
    },
    {
      "cell_type": "code",
      "source": [
        "user = output_class\n",
        "    # membuat kondisi dimana nilai user akan dibandingkan dengan komputer\n",
        "if user == 0 and komputer == 0:\n",
        "  print(\"Seri !!, kertas lawan kertas\")\n",
        "elif user == 1 and komputer == 1:\n",
        "  print(\"Seri !!, batu lawan batu\")\n",
        "elif user == 2 and komputer == 2:\n",
        "  print(\"Seri !!, gunting lawan gunting\")\n",
        "elif user == 0:\n",
        "    if komputer == 1:\n",
        "        print(\"Menang !! kertas melawan batu\")\n",
        "    else:\n",
        "        print(\"Kalah !! batu melawan kertas \")\n",
        "elif user == 2:\n",
        "    if komputer == 0:\n",
        "       print(\"Menang !! gunting melawan kertas\")\n",
        "    else:\n",
        "        print(\"Kalah !! kertas melawan gunting \")\n",
        "elif user == 1:\n",
        "     if komputer == 2:\n",
        "        print(\"Menang !! batu melawan gunting\")\n",
        "     else:\n",
        "        print(\"Kalah !! gunting melawan batu \")\n",
        "else:\n",
        "     print(\"masukkan input dengan benar\")\n",
        "    \n",
        "komputer = gameList[randint(0, 2)]"
      ],
      "metadata": {
        "id": "4K-Dr19v1Bse"
      },
      "execution_count": null,
      "outputs": []
    }
  ],
  "metadata": {
    "colab": {
      "provenance": [],
      "private_outputs": true,
      "include_colab_link": true
    },
    "kernelspec": {
      "display_name": "Python 3.10.4 ('matrix')",
      "language": "python",
      "name": "python3"
    },
    "language_info": {
      "codemirror_mode": {
        "name": "ipython",
        "version": 3
      },
      "file_extension": ".py",
      "mimetype": "text/x-python",
      "name": "python",
      "nbconvert_exporter": "python",
      "pygments_lexer": "ipython3",
      "version": "3.10.4 (main, Mar 31 2022, 08:41:55) [GCC 7.5.0]"
    },
    "vscode": {
      "interpreter": {
        "hash": "b570a1c1987fe9154ac6d1992fe857d1ccc0ca30af7a0adc6e3860f8fe74a19e"
      }
    },
    "accelerator": "GPU"
  },
  "nbformat": 4,
  "nbformat_minor": 0
}